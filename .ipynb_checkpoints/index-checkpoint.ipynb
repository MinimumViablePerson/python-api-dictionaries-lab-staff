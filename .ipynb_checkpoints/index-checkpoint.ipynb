{
 "cells": [
  {
   "cell_type": "markdown",
   "metadata": {},
   "source": [
    "# API Exercises"
   ]
  },
  {
   "cell_type": "markdown",
   "metadata": {},
   "source": [
    "Here are two exercises that involve working with APIs and dictionaries.\n",
    "\n",
    "One is using the Open Brewery API found at https://www.openbrewerydb.org/, and the other is using the API for UK Police Data, found at https://data.police.uk/docs/.\n",
    "\n",
    "You can complete them in either order!\n",
    "\n",
    "Remember that you can create new cells with esc + a or b"
   ]
  },
  {
   "cell_type": "markdown",
   "metadata": {},
   "source": [
    "## Breweries"
   ]
  },
  {
   "cell_type": "markdown",
   "metadata": {},
   "source": [
    "### Q1: Load the first page of results with 50 results per page"
   ]
  },
  {
   "cell_type": "code",
   "execution_count": 8,
   "metadata": {},
   "outputs": [],
   "source": [
    "get_url_for\n",
    "page1 = 'https://api.openbrewerydb.org/breweries?page=1&per_page=50'\n",
    "page2 = 'https://api.openbrewerydb.org/breweries?page=2&per_page=50'\n"
   ]
  },
  {
   "cell_type": "markdown",
   "metadata": {},
   "source": [
    "### Q2: This is only the first 50 results.  Get the next 50 and put them together."
   ]
  },
  {
   "cell_type": "code",
   "execution_count": 6,
   "metadata": {},
   "outputs": [],
   "source": [
    "import requests"
   ]
  },
  {
   "cell_type": "code",
   "execution_count": 9,
   "metadata": {},
   "outputs": [],
   "source": [
    "breweries = [*requests.get(page1).json(), *requests.get(page2).json()]"
   ]
  },
  {
   "cell_type": "markdown",
   "metadata": {},
   "source": [
    "### Q3: How many of these 100 breweries in are in Alaska?"
   ]
  },
  {
   "cell_type": "code",
   "execution_count": 10,
   "metadata": {},
   "outputs": [
    {
     "data": {
      "text/plain": [
       "3"
      ]
     },
     "execution_count": 10,
     "metadata": {},
     "output_type": "execute_result"
    }
   ],
   "source": [
    "len([brewery for brewery in breweries if brewery[\"state\"] == \"Alaska\"])"
   ]
  },
  {
   "cell_type": "markdown",
   "metadata": {},
   "source": [
    "### Q4: Of these 100 breweries, what are the different unique brewery types?"
   ]
  },
  {
   "cell_type": "code",
   "execution_count": 14,
   "metadata": {},
   "outputs": [
    {
     "data": {
      "text/plain": [
       "{'brewpub', 'contract', 'micro', 'planning', 'proprietor', 'regional'}"
      ]
     },
     "execution_count": 14,
     "metadata": {},
     "output_type": "execute_result"
    }
   ],
   "source": [
    "{ brewery[\"brewery_type\"] for brewery in breweries }"
   ]
  },
  {
   "cell_type": "markdown",
   "metadata": {},
   "source": [
    "### Q5: What is the cloest brewery to \"Devil's Potion Brewing Company LLC\" ?\n",
    "* Hint 1: Use Euclidian distance w/ longitude and latitude (assume longitude and latitude are a Carteisan coordinate system)\n",
    "* Hint 2: You'll have to ignore the entries with \"none\" for latitude or longitude"
   ]
  },
  {
   "cell_type": "code",
   "execution_count": 47,
   "metadata": {},
   "outputs": [],
   "source": [
    "from math import sqrt\n",
    "from functools import partial\n",
    "\n",
    "def distance_between(brewery1, brewery2):\n",
    "    return sqrt(\n",
    "        (float(brewery1[\"latitude\"]) - float(brewery2[\"latitude\"])) ** 2 + \\\n",
    "        (float(brewery1[\"longitude\"]) - float(brewery2[\"longitude\"])) ** 2\n",
    "    )\n",
    "\n",
    "def closest_brewery_to(target_brewery):\n",
    "    breweries_with_location = [\n",
    "        brewery for brewery in breweries\n",
    "        if brewery[\"latitude\"] is not None\n",
    "        and brewery[\"name\"] is not target_brewery[\"name\"]\n",
    "    ]\n",
    "    return min(breweries_with_location, key = partial(distance_between, target_brewery))\n",
    "\n",
    "def find(predicate, elements):\n",
    "    return next((element for element in elements if predicate(element)), None)"
   ]
  },
  {
   "cell_type": "code",
   "execution_count": 61,
   "metadata": {},
   "outputs": [
    {
     "data": {
      "text/plain": [
       "{'id': 924,\n",
       " 'name': 'Port Brewing Co / The Lost Abbey',\n",
       " 'brewery_type': 'micro',\n",
       " 'street': '155 Mata Way Ste 104',\n",
       " 'address_2': None,\n",
       " 'address_3': None,\n",
       " 'city': 'San Marcos',\n",
       " 'state': 'California',\n",
       " 'county_province': None,\n",
       " 'postal_code': '92069-2983',\n",
       " 'country': 'United States',\n",
       " 'longitude': '-117.149141',\n",
       " 'latitude': '33.141537',\n",
       " 'phone': '8009186816',\n",
       " 'website_url': 'http://www.portbrewing.com',\n",
       " 'updated_at': '2018-08-24T00:01:07.397Z',\n",
       " 'created_at': '2018-07-24T01:32:59.652Z'}"
      ]
     },
     "execution_count": 61,
     "metadata": {},
     "output_type": "execute_result"
    }
   ],
   "source": [
    "devils_potion = find(lambda x: x[\"name\"] == \"Devil's Potion Brewing Company LLC\", breweries)\n",
    "closest_brewery_to(devils_potion)"
   ]
  },
  {
   "cell_type": "markdown",
   "metadata": {},
   "source": [
    "### Q6: Write a function to find the closest brewery to any other given brewery"
   ]
  },
  {
   "cell_type": "code",
   "execution_count": 26,
   "metadata": {},
   "outputs": [
    {
     "name": "stdout",
     "output_type": "stream",
     "text": [
      "33.524521\n",
      "33.5128492349817\n",
      "34.7277523\n",
      "61.5752695\n",
      "61.1384893547315\n",
      "32.2467372722906\n",
      "33.4972615652174\n",
      "33.3053455\n",
      "32.201608314954\n",
      "32.2504946147872\n",
      "35.2500282\n",
      "34.4689736300844\n",
      "33.6687744976834\n",
      "33.3032436\n",
      "33.63822125\n",
      "33.516633\n",
      "36.0316358142169\n",
      "34.7594277548278\n",
      "34.742845\n",
      "36.3326432\n",
      "36.2553543\n",
      "35.2467277959184\n",
      "33.02391\n",
      "37.6783911404914\n",
      "38.8961210674875\n",
      "33.7998367777778\n",
      "38.3649703\n",
      "36.3014675555556\n",
      "37.780655\n",
      "36.3300786\n",
      "34.0536834\n",
      "32.7174209\n",
      "36.8535938163265\n",
      "37.3253017839889\n",
      "32.641495\n",
      "33.1984907123707\n",
      "58.3017758843016\n",
      "38.8053232210103\n",
      "34.1674435\n",
      "33.1216751\n",
      "34.0363873913043\n",
      "37.6989500360251\n",
      "32.755723\n",
      "34.0603401026307\n",
      "37.88157297059\n",
      "37.789461244898\n",
      "38.5332279038371\n",
      "37.315251291037\n",
      "37.3625383916082\n",
      "34.0831712\n",
      "37.3153140881948\n",
      "37.9577016\n",
      "34.134155\n",
      "38.0682836733387\n",
      "None\n",
      "None\n",
      "38.5719882\n",
      "32.709923\n",
      "34.1322144\n",
      "33.5427913\n",
      "40.4055904\n",
      "35.2777052\n",
      "33.8044209\n",
      "37.7577437\n",
      "37.9458177\n",
      "32.8908008085346\n",
      "38.952499158384\n",
      "32.912641\n",
      "33.0762994189637\n",
      "33.2136973549748\n",
      "34.0976380821684\n",
      "37.4132678904411\n",
      "37.6511615833333\n",
      "33.141537\n",
      "38.242484\n",
      "33.133904\n",
      "36.9822865\n",
      "36.7577440769231\n",
      "38.294506\n",
      "38.9118004\n",
      "37.9732744779465\n",
      "32.7405237\n",
      "37.7980748571429\n",
      "38.8995673848688\n",
      "33.9171643\n",
      "38.097198\n",
      "32.8957500613992\n",
      "34.2781592040816\n",
      "38.6543681\n",
      "35.2493387\n",
      "38.5657962653061\n",
      "34.4555624289373\n",
      "None\n",
      "37.8069575\n",
      "37.761163\n",
      "39.5659575\n",
      "39.7562107\n",
      "38.9941414\n",
      "39.9864294285714\n",
      "37.169397\n"
     ]
    }
   ],
   "source": [
    "[*]"
   ]
  },
  {
   "cell_type": "markdown",
   "metadata": {},
   "source": [
    "### Q7: How would you get the first 10 pages from this API and put them all together using a for loop?"
   ]
  },
  {
   "cell_type": "code",
   "execution_count": 64,
   "metadata": {},
   "outputs": [],
   "source": [
    "results = []\n",
    "for i in range(1, 11):\n",
    "    url = f'https://api.openbrewerydb.org/breweries?page={i}&per_page=50'\n",
    "    resp = requests.get(url)\n",
    "    data = resp.json()\n",
    "    results = [*results, *data]"
   ]
  },
  {
   "cell_type": "code",
   "execution_count": 66,
   "metadata": {},
   "outputs": [
    {
     "data": {
      "text/plain": [
       "500"
      ]
     },
     "execution_count": 66,
     "metadata": {},
     "output_type": "execute_result"
    }
   ],
   "source": []
  },
  {
   "cell_type": "markdown",
   "metadata": {},
   "source": [
    "# Crime in the UK"
   ]
  },
  {
   "cell_type": "markdown",
   "metadata": {},
   "source": [
    "### We will be analyzing different crimes reported in the UK as provided by https://data.police.uk/docs/"
   ]
  },
  {
   "cell_type": "markdown",
   "metadata": {},
   "source": [
    "# Exploratory analysis\n",
    "##### 1. How many total crimes were there at latitude : 52.63902 and -1.131321 on November of 2017.\n",
    "Use the street level crimes data, the documentation for the API can be found at https://data.police.uk/docs/method/crime-street/"
   ]
  },
  {
   "cell_type": "code",
   "execution_count": null,
   "metadata": {},
   "outputs": [],
   "source": [
    "\n"
   ]
  },
  {
   "cell_type": "markdown",
   "metadata": {},
   "source": [
    "##### 2. We've queried the API once, but it could get annoying to retype the url over and over again, create a function `make_api_request` that enables you to query the API.\n",
    "\n",
    "\n",
    " The parameters for the function should be:\n",
    "* lat (float) : latitude\n",
    "* lng (float) : longitude\n",
    "* date (string): Date in the format YYYY-MM\n",
    "    * default value = `None`\n",
    "    \n",
    "And it should return a json object of \n",
    "\n",
    "for more information on default values check out http://blog.thedigitalcatonline.com/blog/2015/02/11/default-arguments-in-python/"
   ]
  },
  {
   "cell_type": "code",
   "execution_count": null,
   "metadata": {},
   "outputs": [],
   "source": [
    "\n"
   ]
  },
  {
   "cell_type": "markdown",
   "metadata": {},
   "source": [
    "##### 3. Write a function `categories_of_crime` that will determine the count of each type of crime for a given latitude and longitude. This is labelled as 'category' in the records. Your function should call the `make_api_request` function you created.\n",
    "\n",
    "The parameters for the function should be:\n",
    "\n",
    "* lat (float) : latitude\n",
    "* lng (float) : longitude\n",
    "* date (str) default = None\n",
    "\n",
    "The function should return:\n",
    "* a dictionary with the count of each type of crime\n",
    "\n",
    "\n",
    "\n",
    "Once you've created the function, try it with these locations\n",
    "* lat, lng of 51.5017861,-0.1432319   (Buckingham Palace)\n",
    "* lat, lng of 53.480161, -2.245163     (Manchester)"
   ]
  },
  {
   "cell_type": "code",
   "execution_count": null,
   "metadata": {},
   "outputs": [],
   "source": [
    "\n"
   ]
  },
  {
   "cell_type": "markdown",
   "metadata": {},
   "source": [
    "**Bonus**: \n",
    "* Write a function that determines the difference between Buckingham Palace and Manchester in terms of the number of crimes in each category.\n",
    "    * In which category is there the largest absolute difference between the category of crime?\n",
    "* Create a histogram depiction of the categories of crime"
   ]
  },
  {
   "cell_type": "code",
   "execution_count": null,
   "metadata": {},
   "outputs": [],
   "source": [
    "\n"
   ]
  },
  {
   "cell_type": "markdown",
   "metadata": {},
   "source": [
    "##### 4. Create a function `find_outcome_statuses` that will determine outcome statuses for a given latitude and longitude and date (optional)?\n",
    "Investigate the data to determine where the outcome statuses are located.\n",
    "\n",
    "**NOTE**: You'll notice that some of these crimes do not have crime outcomes. Make these into the category of \"Not Resolved.\"\n",
    "\n",
    "**NOTE 2**: These might take a long time to execute if you do not specify a month\n",
    "\n",
    "**Bonus**: What is the ratio of crimes investigated to those not investigated? Is it higher near London or Manchester?"
   ]
  },
  {
   "cell_type": "code",
   "execution_count": null,
   "metadata": {},
   "outputs": [],
   "source": [
    "\n"
   ]
  },
  {
   "cell_type": "markdown",
   "metadata": {},
   "source": [
    "##### 5. Write a function `month_highest_crimes` that will return the month that had the highest number of crimes for a latitude, longitude and a year.\n",
    "\n",
    "Inputs\n",
    "* lat (float) : latitude\n",
    "* lng (float) : longitude\n",
    "* year (str) : in the format YYYY\n",
    "\n",
    "Output\n",
    "* month with highest crime (int)\n",
    "\n",
    "**Bonus** Make a graph of how the number of crimes changed over time for a year. This will likely require a new function. Is seasonality a factor? Do the type of crimes change over time?"
   ]
  },
  {
   "cell_type": "code",
   "execution_count": null,
   "metadata": {},
   "outputs": [],
   "source": [
    "\n"
   ]
  },
  {
   "cell_type": "markdown",
   "metadata": {},
   "source": [
    "### Bonus Open Ended Questions\n",
    "\n",
    "1. Take a look at the https://data.police.uk/docs/method/stops-street/ API. Is there a correlation between gender and being stopped and searched? How about race and being stopped and searched?"
   ]
  },
  {
   "cell_type": "code",
   "execution_count": null,
   "metadata": {},
   "outputs": [],
   "source": [
    "\n"
   ]
  }
 ],
 "metadata": {
  "kernelspec": {
   "display_name": "Python 3",
   "language": "python",
   "name": "python3"
  },
  "language_info": {
   "codemirror_mode": {
    "name": "ipython",
    "version": 3
   },
   "file_extension": ".py",
   "mimetype": "text/x-python",
   "name": "python",
   "nbconvert_exporter": "python",
   "pygments_lexer": "ipython3",
   "version": "3.6.9"
  }
 },
 "nbformat": 4,
 "nbformat_minor": 2
}
